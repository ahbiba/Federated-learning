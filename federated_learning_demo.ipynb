# 📦 Étape 1 : Importation des bibliothèques
import tensorflow as tf
from tensorflow.keras import layers, models
import numpy as np
import base64
import pickle
from cryptography.fernet import Fernet

# 🔐 Étape 2 : Module de chiffrement
SHARED_KEY = b'm2eJGGTAoknU0JUPO7O0Ume024lipzhsT1Bf5ag3YE8='
fernet = Fernet(SHARED_KEY)

def encrypt_weights(weights):
    serialized = pickle.dumps(weights)
    encrypted = fernet.encrypt(serialized)
    return base64.b64encode(encrypted).decode('utf-8')

def decrypt_weights(encrypted_b64):
    encrypted = base64.b64decode(encrypted_b64.encode('utf-8'))
    decrypted = fernet.decrypt(encrypted)
    return pickle.loads(decrypted)

# 🧠 Étape 3 : Création du modèle
def build_model():
    model = models.Sequential([
        layers.Flatten(input_shape=(28, 28, 1)),
        layers.Dense(128, activation='relu'),
        layers.Dropout(0.2),
        layers.Dense(10, activation='softmax')
    ])
    model.compile(optimizer='adam', loss='sparse_categorical_crossentropy', metrics=['accuracy'])
    return model

# 🎓 Étape 4 : Entraînement local (simulateur client)
(x_train, y_train), _ = tf.keras.datasets.mnist.load_data()
x_train = x_train.astype('float32') / 255.0
x_train = x_train.reshape(-1, 28, 28, 1)

client_model = build_model()
client_model.fit(x_train, y_train, epochs=1, batch_size=32, verbose=2)

local_weights = client_model.get_weights()
encrypted_weights = encrypt_weights(local_weights)

# 🖥️ Étape 5 : Simulation du serveur (agrégation simple)
global_model = build_model()
global_weights = global_model.get_weights()

received_weights = decrypt_weights(encrypted_weights)
for i in range(len(global_weights)):
    global_weights[i] = (global_weights[i] + received_weights[i]) / 2
global_model.set_weights(global_

# ✅ Étape 6 : Évaluation du modèle global
(_, _), (x_test, y_test) = tf.keras.datasets.mnist.load_data()
x_test = x_test.astype('float32') / 255.0
x_test = x_test.reshape(-1, 28, 28, 1)

loss, acc = global_model.evaluate(x_test, y_test, verbose=2)
print(f"🎯 Accuracy sur les données test : {acc:.4f}")
